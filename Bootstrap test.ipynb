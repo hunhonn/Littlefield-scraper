{
 "cells": [
  {
   "cell_type": "code",
   "execution_count": 14,
   "id": "41832e95",
   "metadata": {},
   "outputs": [],
   "source": [
    "import math, statistics, random\n",
    "import matplotlib.pyplot as plt\n",
    "from scipy.stats import t, bootstrap\n",
    "import pandas as pd"
   ]
  },
  {
   "cell_type": "code",
   "execution_count": 15,
   "id": "41edb032",
   "metadata": {},
   "outputs": [],
   "source": [
    "df=pd.read_csv(\"demand.csv\")"
   ]
  },
  {
   "cell_type": "code",
   "execution_count": 16,
   "id": "cb3f4d12",
   "metadata": {},
   "outputs": [],
   "source": [
    "df1= df.truncate(before=120, after=135)"
   ]
  },
  {
   "cell_type": "code",
   "execution_count": 17,
   "id": "107eb877",
   "metadata": {},
   "outputs": [],
   "source": [
    "listed1=df1[\"Demand\"].values.tolist()"
   ]
  },
  {
   "cell_type": "code",
   "execution_count": 18,
   "id": "ded011ce",
   "metadata": {},
   "outputs": [],
   "source": [
    "n1=len(listed1)\n",
    "bootstrap1_mean=[]\n",
    "for i in range(10**5):\n",
    "    resample1=random.choices(listed1,k=n1)\n",
    "    resample_mean1= statistics.mean(resample1)\n",
    "    bootstrap1_mean.append(resample_mean1)\n",
    "bootstrap1_mean.sort()"
   ]
  },
  {
   "cell_type": "code",
   "execution_count": 19,
   "id": "10cbb0bd",
   "metadata": {},
   "outputs": [
    {
     "data": {
      "image/png": "[encoded data removed]",
      "text/plain": [
       "<Figure size 432x288 with 1 Axes>"
      ]
     },
     "metadata": {
      "needs_background": "light"
     },
     "output_type": "display_data"
    }
   ],
   "source": [
    "plt.hist(bootstrap1_mean, bins=20,ec='black')\n",
    "plt.title(\"Bootstrap with 10^5 samples\")\n",
    "plt.show()"
   ]
  },
  {
   "cell_type": "code",
   "execution_count": 20,
   "id": "d8979a44",
   "metadata": {},
   "outputs": [
    {
     "name": "stdout",
     "output_type": "stream",
     "text": [
      "99% bootstrap CI for mu =  [9.75, 14.5]\n"
     ]
    }
   ],
   "source": [
    "print(\"99% bootstrap CI for mu = \", [bootstrap1_mean[500], bootstrap1_mean[-501]])"
   ]
  }
 ],
 "metadata": {
  "kernelspec": {
   "display_name": "Python 3 (ipykernel)",
   "language": "python",
   "name": "python3"
  },
  "language_info": {
   "codemirror_mode": {
    "name": "ipython",
    "version": 3
   },
   "file_extension": ".py",
   "mimetype": "text/x-python",
   "name": "python",
   "nbconvert_exporter": "python",
   "pygments_lexer": "ipython3",
   "version": "3.10.1"
  }
 },
 "nbformat": 4,
 "nbformat_minor": 5
}
