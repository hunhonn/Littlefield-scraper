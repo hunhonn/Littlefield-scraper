{
 "cells": [
  {
   "cell_type": "code",
   "execution_count": 6,
   "id": "8966acf6",
   "metadata": {},
   "outputs": [],
   "source": [
    "import mechanize\n",
    "import http.cookiejar as cookielib\n",
    "from bs4 import BeautifulSoup\n",
    "from datetime import datetime\n",
    "import time\n",
    "import pandas"
   ]
  },
  {
   "cell_type": "code",
   "execution_count": 7,
   "id": "4cebe886",
   "metadata": {},
   "outputs": [],
   "source": [
    "cj = cookielib.CookieJar()\n",
    "br = mechanize.Browser()\n",
    "br.set_cookiejar(cj)"
   ]
  },
  {
   "cell_type": "code",
   "execution_count": 8,
   "id": "c9cccc77",
   "metadata": {},
   "outputs": [
    {
     "data": {
      "text/plain": [
       "<response_seek_wrapper at 0x2d3e0bb1c60 whose wrapped object = <closeable_response at 0x2d3e0bb1a50 whose fp = <_io.BufferedReader>>>"
      ]
     },
     "execution_count": 8,
     "metadata": {},
     "output_type": "execute_result"
    }
   ],
   "source": [
    "br.open(\"https://op.responsive.net/lt/jackson/entry.html\") #Replace this url with yours\n",
    "br.select_form(nr=0)\n",
    "br.form['id'] = 'kastam' # Replace this id with yours \n",
    "br.form['password'] = 'fano123' # Replace this password with yours\n",
    "br.submit()"
   ]
  },
  {
   "cell_type": "code",
   "execution_count": 9,
   "id": "61668624",
   "metadata": {},
   "outputs": [],
   "source": [
    "url_list = [\"CASH\",\"JOBIN\",\"JOBQ\",\"S1Q\",\"S2Q\",\"S3Q\",\"S1UTIL\",\"S2UTIL\",\"S3UTIL\"]\n",
    "url_list_4col = [\"JOBT\",\"JOBREV\",\"JOBOUT\"]\n",
    "LF_DATA = {}"
   ]
  },
  {
   "cell_type": "code",
   "execution_count": 11,
   "id": "a24dc05b",
   "metadata": {},
   "source": [
    "while True:\n",
    "    lf_url = \"https://op.responsive.net/Littlefield/Plot?data=INV&x=all\"\n",
    "    soup = BeautifulSoup(br.open(lf_url), \"lxml\")\n",
    "\n",
    "    data = soup.findAll(\"script\")[6].string\n",
    "    data = data.split(\"\\n\")[4].split(\"'\")[3].split()\n",
    "\n",
    "    counter = 1\n",
    "    LF_DATA = {}\n",
    "\n",
    "    for i in data:\n",
    "     if counter % 2 == 1:\n",
    "      counter += 1\n",
    "      day = float(i)\n",
    "      LF_DATA[day] = []\n",
    "     elif counter % 2 == 0:\n",
    "      row_data = [float(i)]\n",
    "      LF_DATA[day].extend(row_data)\n",
    "      counter += 1\n",
    "\n",
    "    for url in url_list:\n",
    "     lf_url = \"http://op.responsive.net/Littlefield/Plot?data=%s&x=all\" % url\n",
    "     soup = BeautifulSoup(br.open(lf_url), \"lxml\")\n",
    "     data = soup.findAll(\"script\")[6].string\n",
    "     data = data.split(\"\\n\")[4].split(\"'\")[3].split()\n",
    "     counter = 1\n",
    "     for i in data:\n",
    "      if counter % 2 == 0:\n",
    "       day = counter/2\n",
    "       LF_DATA[day].append(float(i))\n",
    "       counter += 1\n",
    "      else:\n",
    "       counter +=1\n",
    "\n",
    "    for url in url_list_4col:\n",
    "     lf_url = \"http://op.responsive.net/Littlefield/Plot?data=%s&x=all\" % url\n",
    "     soup = BeautifulSoup(br.open(lf_url), \"lxml\")\n",
    "     data = soup.findAll(\"script\")[6].string\n",
    "     data0 = data.split(\"\\n\")[4].split(\"'\")[5].split()\n",
    "     data1 = data.split(\"\\n\")[5].split(\"'\")[5].split()\n",
    "     data2 = data.split(\"\\n\")[6].split(\"'\")[5].split()\n",
    "\n",
    "     counter = 1\n",
    "\n",
    "     for i in data0:\n",
    "      if counter % 2 == 0:\n",
    "       day = counter/2\n",
    "       LF_DATA[day].append(float(i))\n",
    "       counter += 1\n",
    "      else:\n",
    "       counter +=1\n",
    "\n",
    "     counter = 1\n",
    "\n",
    "     for i in data1:\n",
    "      if counter % 2 == 0:\n",
    "       day = counter/2\n",
    "       LF_DATA[day].append(float(i))\n",
    "       counter += 1\n",
    "      else:\n",
    "       counter +=1\n",
    "\n",
    "     counter = 1\n",
    "\n",
    "     for i in data2:\n",
    "      if counter % 2 == 0:\n",
    "       day = counter/2\n",
    "       LF_DATA[day].append(float(i))\n",
    "       counter += 1\n",
    "      else:\n",
    "       counter +=1\n",
    "\n",
    "    dummy_data = [0,0,0,0,0,0,0,0,0,0,0,0,0,0,0,0,0,0]\n",
    "\n",
    "    for key, value in LF_DATA.items():\n",
    "     if len(value) < 19:\n",
    "      value.extend(dummy_data)\n",
    "\n",
    "    headers = [\"INV\",\"CASH\",\"JOBIN\",\"JOBQ\",\"S1Q\",\"S2Q\",\"S3Q\",\"S1UTIL\",\"S2UTIL\",\"S3UTIL\",\"JOBTC1\",\"JOBTC2\",\"JOBTC3\",\"JOBREVC1\",\"JOBREVC2\",\"JOBREVC3\",\"JOBOUTC1\",\"JOBOUTC2\",\"JOBOUTC3\"]\n",
    "\n",
    "    df = pandas.DataFrame.from_dict(LF_DATA, orient=\"index\")\n",
    "    df.columns = headers\n",
    "    df.sort_index(inplace=True)\n",
    "    df[\"Backlog\"] = df[\"JOBIN\"].cumsum() - df[\"JOBOUTC1\"].cumsum() - df[\"JOBOUTC2\"].cumsum() - df[\"JOBOUTC3\"].cumsum()\n",
    "    df.index.rename('DAY', inplace=True)\n",
    "\n",
    "    df.index = df.index.astype(int)\n",
    "    df= df[~df.index.duplicated(keep='first')]\n",
    "    \n",
    "    df.to_excel(\"Data Extract 10_06_2023_12_35_04.xlsx\")\n",
    "    \n",
    "    time.sleep(42 * 60)"
   ]
  },
  {
   "cell_type": "code",
   "execution_count": null,
   "id": "2571d9cd",
   "metadata": {},
   "outputs": [],
   "source": []
  }
 ],
 "metadata": {
  "kernelspec": {
   "display_name": "Python 3 (ipykernel)",
   "language": "python",
   "name": "python3"
  },
  "language_info": {
   "codemirror_mode": {
    "name": "ipython",
    "version": 3
   },
   "file_extension": ".py",
   "mimetype": "text/x-python",
   "name": "python",
   "nbconvert_exporter": "python",
   "pygments_lexer": "ipython3",
   "version": "3.10.1"
  }
 },
 "nbformat": 4,
 "nbformat_minor": 5
}
